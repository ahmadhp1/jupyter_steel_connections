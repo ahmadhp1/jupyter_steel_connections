{
 "cells": [
  {
   "cell_type": "code",
   "execution_count": 7,
   "metadata": {
    "metadata": {}
   },
   "outputs": [],
   "source": [
    "import math"
   ]
  },
  {
   "cell_type": "code",
   "execution_count": 8,
   "metadata": {
    "metadata": {}
   },
   "outputs": [],
   "source": [
    "input = {\n",
    "        \"beam\": {\n",
    "            \"h\": 500,\n",
    "            \"bf\": 300,\n",
    "            \"tf\": 20,\n",
    "            \"tw\": 8,\n",
    "            \"z\": 3619867.15,\n",
    "            \"fy\": 240,\n",
    "            \"fu\": 340\n",
    "        },\n",
    "        \"column\": {\n",
    "            \"d\": 400,\n",
    "            \"t\": 20,\n",
    "            \"fy\": 240,\n",
    "            \"fu\": 340,\n",
    "            \"z\": 0\n",
    "        },\n",
    "        \"loadWidth\": 2,\n",
    "        \"beamLength\": 8,\n",
    "        \"deadLoad\": 5.7,\n",
    "        \"deadLoadCoef\": 1.2,\n",
    "        \"liveLoad\": 6,\n",
    "        \"liveLoadCoef\": 1\n",
    "    }\n"
   ]
  },
  {
   "cell_type": "code",
   "execution_count": 21,
   "metadata": {
    "metadata": {}
   },
   "outputs": [],
   "source": [
    "beam = IBeam(input[\"beam\"])\n",
    "column = TubeColumn(input[\"column\"])\n",
    "BEAM_LENGTH = input[\"beamLength\"]"
   ]
  },
  {
   "cell_type": "code",
   "execution_count": 22,
   "metadata": {
    "metadata": {}
   },
   "outputs": [
    {
     "name": "stdout",
     "output_type": "stream",
     "text": [
      "qu = 25.68 kn/m\n"
     ]
    }
   ],
   "source": [
    "live = input[\"liveLoad\"]\n",
    "dead = input[\"deadLoad\"]\n",
    "loadWidth = input[\"loadWidth\"]\n",
    "\n",
    "q = load_comb(dead, live)\n",
    "qu = q * loadWidth\n",
    "\n",
    "print(\"qu =\", qu , \"kn/m\")"
   ]
  },
  {
   "cell_type": "code",
   "execution_count": 24,
   "metadata": {
    "metadata": {}
   },
   "outputs": [
    {
     "name": "stdout",
     "output_type": "stream",
     "text": [
      "Vu: 568.98 KN\n",
      "Mu: 1511.84 KN.m\n"
     ]
    }
   ],
   "source": [
    "RY = 1.15\n",
    "MAX_CPR = 1.2\n",
    "\n",
    "db = beam.height + 2 * beam.flangeThickness\n",
    "lp = db + 10\n",
    "sh = lp / 1000  # M\n",
    "lh = BEAM_LENGTH - column.depth/1000 - 2 * sh  # M\n",
    "\n",
    "pu = 205.0 #JUST FOR TEST SHOULD REMOVE\n",
    "actual_cpr = (beam.Fy + beam.Fu) / 2 * beam.Fy\n",
    "cpr = min(actual_cpr , MAX_CPR)\n",
    "mpr = cpr * RY * (beam.Z / 10**6) * beam.Fy\n",
    "vpr = (2 * mpr) / lh + (qu * lh + pu) / 2\n",
    "\n",
    "vu = (vpr + qu * sh) * 10**3\n",
    "mu = (mpr + vpr * sh + (qu * sh**2)) * 10**6\n",
    "\n",
    "print(\"Vu:\", round(vu / 10**3 , 2) , \"KN\")\n",
    "print(\"Mu:\", round(mu / 10**6 , 2),  \"KN.m\")"
   ]
  },
  {
   "cell_type": "code",
   "execution_count": 25,
   "metadata": {
    "metadata": {}
   },
   "outputs": [],
   "source": [
    "def calc_plate_length(a):\n",
    "    return mu / (db * 140 * a)  "
   ]
  },
  {
   "cell_type": "code",
   "execution_count": 26,
   "metadata": {
    "metadata": {}
   },
   "outputs": [
    {
     "name": "stdout",
     "output_type": "stream",
     "text": [
      "Bottom Plate Details\n",
      "Width: 350 mm\n",
      "thickness: 35.0 mm\n",
      "length: 600.0 mm\n",
      "a: 18 mm\n"
     ]
    }
   ],
   "source": [
    "bpb = beam.flangeWidth + 50\n",
    "tpb = calc_tp(mu, db, bpb, beam.Fy)\n",
    "aMin = calculate_welding(beam.flangeThickness)\n",
    "aMax = min(beam.flangeThickness, tpb) - 2\n",
    "\n",
    "Lw = calc_plate_length(aMax)\n",
    "lpb = (Lw / 2) + 20\n",
    "lpb = round_to_nearest_number(lpb, 25)\n",
    "\n",
    "print(\"Bottom Plate Details\")\n",
    "print(\"Width:\", bpb , \"mm\")\n",
    "print(\"thickness:\", tpb , \"mm\")\n",
    "print(\"length:\", lpb , \"mm\")\n",
    "print(\"a:\", aMax , \"mm\")"
   ]
  },
  {
   "cell_type": "code",
   "execution_count": 28,
   "metadata": {
    "metadata": {}
   },
   "outputs": [],
   "source": [
    "BETA = 0.75\n",
    "bpt = beam.flangeWidth - 50\n",
    "aMax = min(beam.flangeThickness, tpb)\n"
   ]
  },
  {
   "cell_type": "code",
   "execution_count": null,
   "metadata": {},
   "outputs": [],
   "source": []
  },
  {
   "cell_type": "markdown",
   "metadata": {},
   "source": []
  },
  {
   "cell_type": "markdown",
   "metadata": {},
   "source": []
  },
  {
   "cell_type": "markdown",
   "metadata": {},
   "source": []
  },
  {
   "cell_type": "markdown",
   "metadata": {},
   "source": []
  },
  {
   "cell_type": "markdown",
   "metadata": {},
   "source": []
  },
  {
   "cell_type": "code",
   "execution_count": null,
   "metadata": {},
   "outputs": [],
   "source": []
  },
  {
   "cell_type": "code",
   "execution_count": 15,
   "metadata": {
    "metadata": {}
   },
   "outputs": [],
   "source": [
    "def calc_tp(mu, d, b, fy):\n",
    "    def test(value):\n",
    "       return mu / (1 * (d + value) * bpb * fy)\n",
    "\n",
    "    first = test(20) #at first assume thinness is 20mm\n",
    "    second = test(first)\n",
    "\n",
    "    return round_to_nearest_number(second, 5)"
   ]
  },
  {
   "cell_type": "code",
   "execution_count": 16,
   "metadata": {
    "metadata": {}
   },
   "outputs": [],
   "source": [
    "def load_comb (dead, live):\n",
    "    return input[\"deadLoadCoef\"] * dead +  input[\"liveLoadCoef\"] * live"
   ]
  },
  {
   "cell_type": "code",
   "execution_count": 17,
   "metadata": {
    "metadata": {}
   },
   "outputs": [],
   "source": [
    "def round_to_nearest_number(value, target):\n",
    "    remainder = value % target\n",
    "    return value + (target - remainder)"
   ]
  },
  {
   "cell_type": "code",
   "execution_count": 18,
   "metadata": {
    "metadata": {}
   },
   "outputs": [],
   "source": [
    "def calculate_welding(thickness):\n",
    "    if thickness <= 6:\n",
    "        return 3\n",
    "    elif thickness <= 12:\n",
    "        return 5\n",
    "    elif thickness <= 20:\n",
    "        return 6\n",
    "    else:\n",
    "        return 8"
   ]
  },
  {
   "cell_type": "code",
   "execution_count": 19,
   "metadata": {
    "metadata": {}
   },
   "outputs": [],
   "source": [
    "class IBeam:\n",
    "    def __init__(self, beamInput):\n",
    "        self.height = beamInput[\"h\"]\n",
    "        self.flangeWidth = beamInput[\"bf\"]\n",
    "        self.flangeThickness = beamInput[\"tf\"]\n",
    "        self.webThickness = beamInput[\"tw\"]\n",
    "        self.Z = beamInput[\"z\"]\n",
    "        self.Fy = beamInput[\"fy\"]\n",
    "        self.Fu = beamInput[\"fu\"]"
   ]
  },
  {
   "cell_type": "code",
   "execution_count": 20,
   "metadata": {
    "metadata": {}
   },
   "outputs": [],
   "source": [
    "class TubeColumn:\n",
    "    def __init__(self, columnInput):\n",
    "        self.depth = columnInput[\"d\"]\n",
    "        self.thickness = columnInput[\"t\"]\n",
    "        self.Z = columnInput[\"z\"]\n",
    "        self.Fy = columnInput[\"fy\"]\n",
    "        self.Fu = columnInput[\"fu\"]\n"
   ]
  },
  {
   "cell_type": "code",
   "execution_count": null,
   "metadata": {},
   "outputs": [],
   "source": []
  }
 ],
 "metadata": {
  "kernelspec": {
   "display_name": "Python 3 (ipykernel)",
   "language": "python",
   "name": "python3"
  },
  "language_info": {
   "codemirror_mode": {
    "name": "ipython",
    "version": 3
   },
   "file_extension": ".py",
   "mimetype": "text/x-python",
   "name": "python",
   "nbconvert_exporter": "python",
   "pygments_lexer": "ipython3",
   "version": "3.12.3"
  }
 },
 "nbformat": 4,
 "nbformat_minor": 4
}
